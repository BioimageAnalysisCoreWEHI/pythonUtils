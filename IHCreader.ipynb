{
 "cells": [
  {
   "cell_type": "markdown",
   "metadata": {},
   "source": [
    "Author: Nina Tubau Ribera"
   ]
  },
  {
   "cell_type": "code",
   "execution_count": null,
   "metadata": {},
   "outputs": [],
   "source": [
    "!pip install imagecodecs"
   ]
  },
  {
   "cell_type": "code",
   "execution_count": 4,
   "metadata": {},
   "outputs": [],
   "source": [
    "import tifffile\n",
    "import re\n",
    "import imagecodecs\n",
    "import os"
   ]
  },
  {
   "cell_type": "markdown",
   "metadata": {},
   "source": [
    "# Investigation: load data + metadata checks "
   ]
  },
  {
   "cell_type": "code",
   "execution_count": 5,
   "metadata": {},
   "outputs": [
    {
     "name": "stderr",
     "output_type": "stream",
     "text": [
      "TiffPages: invalid page offset 19051315216\n"
     ]
    }
   ],
   "source": [
    "image = tifffile.imread('/data/data_drive/DATA/QuPath/Bianca/IHCdata/first.tif')"
   ]
  },
  {
   "cell_type": "code",
   "execution_count": 75,
   "metadata": {},
   "outputs": [],
   "source": [
    "with tifffile.TiffFile('CD8_Ki67_CW20_x02_Default_Extended.tif') as tif:\n",
    "    tag_0 = tif.pages[0]"
   ]
  },
  {
   "cell_type": "code",
   "execution_count": 49,
   "metadata": {},
   "outputs": [],
   "source": [
    "with tifffile.TiffFile('/data/data_drive/DATA_acquired/QuPath/dataShirley/ER-4 TC_Scan1.qptiff') as tif:\n",
    "    tag = tif.pages[0]"
   ]
  },
  {
   "cell_type": "code",
   "execution_count": 50,
   "metadata": {},
   "outputs": [
    {
     "name": "stdout",
     "output_type": "stream",
     "text": [
      "TiffTag 254 NewSubfileType @24 LONG @36 UNDEFINED\n",
      "TiffTag 256 ImageWidth @44 SHORT @56 32640\n",
      "TiffTag 257 ImageLength @64 SHORT @76 48960\n",
      "TiffTag 258 BitsPerSample @84 SHORT @96 8\n",
      "TiffTag 259 Compression @104 SHORT @116 LZW\n",
      "TiffTag 262 PhotometricInterpretation @124 SHORT @136 MINISBLACK\n",
      "TiffTag 270 ImageDescription @144 ASCII[60903] @98796 <?xml version=\"1.0\" encod\n",
      "TiffTag 277 SamplesPerPixel @164 SHORT @176 1\n",
      "TiffTag 282 XResolution @184 RATIONAL @196 (4294967295, 213133)\n",
      "TiffTag 283 YResolution @204 RATIONAL @216 (4294967295, 213133)\n",
      "TiffTag 284 PlanarConfiguration @224 SHORT @236 CONTIG\n",
      "TiffTag 286 XPosition @244 RATIONAL @256 (2547490303, 4294967295)\n",
      "TiffTag 287 YPosition @264 RATIONAL @276 (4294967295, 1273833449)\n",
      "TiffTag 296 ResolutionUnit @284 SHORT @296 CENTIMETER\n",
      "TiffTag 305 Software @304 ASCII[16] @159700 PerkinElmer-QPI\n",
      "TiffTag 306 DateTime @324 ASCII[20] @159716 2020:10:06 02:02:29\n",
      "TiffTag 322 TileWidth @344 SHORT @356 512\n",
      "TiffTag 323 TileLength @364 SHORT @376 512\n",
      "TiffTag 324 TileOffsets @384 LONG8[6144] @49644 (1586372, 1587248, 1588124, 158\n",
      "TiffTag 325 TileByteCounts @404 LONG8[6144] @492 (876, 876, 876, 15899, 49228,\n",
      "TiffTag 339 SampleFormat @424 SHORT @436 UINT\n",
      "TiffTag 340 SMinSampleValue @444 BYTE @456 0\n",
      "TiffTag 341 SMaxSampleValue @464 BYTE @476 255\n"
     ]
    }
   ],
   "source": [
    "print(tag.tags)"
   ]
  },
  {
   "cell_type": "markdown",
   "metadata": {},
   "source": [
    "Regex for Pixel size in X and Y"
   ]
  },
  {
   "cell_type": "code",
   "execution_count": 5,
   "metadata": {},
   "outputs": [],
   "source": [
    "with tifffile.TiffFile('CD8_Ki67_CW20_x02_Default_Extended.tif') as tif:\n",
    "    tag = tif.pages[0]\n",
    "regex = re.compile('PixelSize[X-Y] = ([0-9].[0-9]\\w+)')\n",
    "res = regex.findall(tag.tags['ImageDescription'].value)"
   ]
  },
  {
   "cell_type": "markdown",
   "metadata": {},
   "source": [
    "# Read .tif and write ome.tif pyramid file  "
   ]
  },
  {
   "cell_type": "markdown",
   "metadata": {},
   "source": [
    "- Navigating through all folders containing annotation (output CaseViewer converter)\n",
    "- Read tiff file and save as ome.tif pyramid file (res 1,4 and 16) \n",
    "- Save in same directory"
   ]
  },
  {
   "cell_type": "markdown",
   "metadata": {},
   "source": [
    "Check files in Annotation folders from CaseViewer"
   ]
  },
  {
   "cell_type": "code",
   "execution_count": 40,
   "metadata": {},
   "outputs": [
    {
     "name": "stdout",
     "output_type": "stream",
     "text": [
      "X:/Bianca for Nina/KConFab 10.007.0368 BRCA2\\2M08_06.10.2021_22.07.24 - Annotation 1\\2M08_06.10.2021_22.07.24_Default_Extended.tif\n",
      "X:/Bianca for Nina/KConFab 10.007.0368 BRCA2\\2M08_06.10.2021_22.07.24 - Annotation 1\\2M08_06.10.2021_22.07.24_Default_Extended_2021-10-12T10-10-18.458.tif\n",
      "X:/Bianca for Nina/KConFab 10.007.0368 BRCA2\\2M08_06.10.2021_22.07.24 - Annotation 1\\2M08_06.10.2021_22.07.24_Default_Extended_2021-10-12T10-09-59.801.tif\n",
      "X:/Bianca for Nina/KConFab 10.007.0368 BRCA2\\2M08_06.10.2021_22.07.24 - Annotation 1\\2M08_06.10.2021_22.07.24_Default_Extended_2021-10-12T10-10-49.772.tif\n",
      "X:/Bianca for Nina/20PM0149 30years Premenopause Parous WT\\2M24_07.10.2021_05.29.19 - Annotation 1\\2M24_07.10.2021_05.29.19_Default_Extended_2021-10-12T08-41-49.285.tif\n",
      "X:/Bianca for Nina/20PM0149 30years Premenopause Parous WT\\2M24_07.10.2021_05.29.19 - Annotation 1\\2M24_07.10.2021_05.29.19_Default_Extended_2021-10-12T08-39-04.709.tif\n",
      "X:/Bianca for Nina/20PM0149 30years Premenopause Parous WT\\2M24_07.10.2021_05.29.19 - Annotation 1\\2M24_07.10.2021_05.29.19_Default_Extended_2021-10-12T08-41-00.469.tif\n",
      "X:/Bianca for Nina/20PM0149 30years Premenopause Parous WT\\2M24_07.10.2021_05.29.19 - Annotation 1\\2M24_07.10.2021_05.29.19_Default_Extended_2021-10-12T08-38-10.470.tif\n",
      "X:/Bianca for Nina/20PM0149 30years Premenopause Parous WT\\2M24_07.10.2021_05.29.19 - Annotation 1\\2M24_07.10.2021_05.29.19_Default_Extended.tif\n",
      "X:/Bianca for Nina/17MH0096 26years Premenopause\\1M01_18.10.2021_12.59.28.28 - Annotation 2\\1M01_18.10.2021_12.59.28_Default_Extended_2021-10-20T16-06-38.199.tif\n",
      "X:/Bianca for Nina/17MH0096 26years Premenopause\\1M01_18.10.2021_12.59.28.28 - Annotation 2\\1M01_18.10.2021_12.59.28_Default_Extended_2021-10-20T16-03-29.518.tif\n",
      "X:/Bianca for Nina/17MH0096 26years Premenopause\\1M01_18.10.2021_12.59.28.28 - Annotation 2\\1M01_18.10.2021_12.59.28_Default_Extended.tif\n",
      "X:/Bianca for Nina/17MH0096 26years Premenopause\\1M01_18.10.2021_12.59.28.28 - Annotation 2\\1M01_18.10.2021_12.59.28_Default_Extended_2021-10-20T16-02-08.905.tif\n",
      "X:/Bianca for Nina/KConFab 01.002.0276 BRCA2\\1M09_11.02.2021_18.15.58 - Annotation 1\\1M09_11.02.2021_18.15.58_Default_Extended_2021-10-12T09-54-48.519.tif\n",
      "X:/Bianca for Nina/KConFab 01.002.0276 BRCA2\\1M09_11.02.2021_18.15.58 - Annotation 1\\1M09_11.02.2021_18.15.58_Default_Extended_2021-10-12T09-56-02.492.tif\n",
      "X:/Bianca for Nina/KConFab 01.002.0276 BRCA2\\1M09_11.02.2021_18.15.58 - Annotation 1\\1M09_11.02.2021_18.15.58_Default_Extended_2021-10-12T09-53-04.435.tif\n",
      "X:/Bianca for Nina/KConFab 01.002.0276 BRCA2\\1M09_11.02.2021_18.15.58 - Annotation 1\\1M09_11.02.2021_18.15.58_Default_Extended_2021-10-12T09-56-31.556.tif\n",
      "X:/Bianca for Nina/KConFab 01.002.0276 BRCA2\\1M09_11.02.2021_18.15.58 - Annotation 1\\1M09_11.02.2021_18.15.58_Default_Extended_2021-10-12T09-52-32.105.tif\n",
      "X:/Bianca for Nina/KConFab 01.002.0276 BRCA2\\1M09_11.02.2021_18.15.58 - Annotation 1\\1M09_11.02.2021_18.15.58_Default_Extended_2021-10-12T09-55-10.551.tif\n",
      "X:/Bianca for Nina/KConFab 01.002.0276 BRCA2\\1M09_11.02.2021_18.15.58 - Annotation 1\\1M09_11.02.2021_18.15.58_Default_Extended_2021-10-12T09-53-35.499.tif\n",
      "X:/Bianca for Nina/KConFab 01.002.0276 BRCA2\\1M09_11.02.2021_18.15.58 - Annotation 1\\1M09_11.02.2021_18.15.58_Default_Extended.tif\n",
      "X:/Bianca for Nina/08RMH263 Normal 29years 08.2621\\1M06_18.10.2021_16.08.59.59 - Annotation 1\\1M06_18.10.2021_16.08.59_Default_Extended.tif\n",
      "X:/Bianca for Nina/08RMH263 Normal 29years 08.2621\\1M06_18.10.2021_16.08.59.59 - Annotation 1\\1M06_18.10.2021_16.08.59_Default_Extended_01.tif\n",
      "X:/Bianca for Nina/08RMH263 Normal 29years 08.2621\\1M06_18.10.2021_16.08.59.59 - Annotation 1\\1M06_18.10.2021_16.08.59_Default_Extendedtemp_jpeg2000.ome.tif\n",
      "X:/Bianca for Nina/08RMH263 Normal 29years 08.2621\\1M06_18.10.2021_16.08.59.59 - Annotation 1\\1M06_18.10.2021_16.08.59_Default_Extended_01_2021-10-22T16-24-59.703.tif\n",
      "X:/Bianca for Nina/08RMH263 Normal 29years 08.2621\\1M06_18.10.2021_16.08.59.59 - Annotation 1\\1M06_18.10.2021_16.08.59_Default_Extended_01_2021-10-22T16-24-15.155.tif\n",
      "X:/Bianca for Nina/08RMH263 Normal 29years 08.2621\\1M06_18.10.2021_16.08.59.59 - Annotation 1\\1M06_18.10.2021_16.08.59_Default_Extended_01_2021-10-22T16-24-33.546.tif\n",
      "X:/Bianca for Nina/08RMH263 Normal 29years 08.2621\\1M06_18.10.2021_16.08.59.59 - Annotation 1\\1M06_18.10.2021_16.08.59_Default_Extended_01_2021-10-22T16-23-42.279.tif\n",
      "X:/Bianca for Nina/KConFab 01.008.0411 BRCA2\\2M06_06.10.2021_20.29.31 - Annotation 1\\2M06_06.10.2021_20.29.31_Default_Extended_2021-10-12T09-57-44.575.tif\n",
      "X:/Bianca for Nina/KConFab 01.008.0411 BRCA2\\2M06_06.10.2021_20.29.31 - Annotation 1\\2M06_06.10.2021_20.29.31_Default_Extended_2021-10-12T09-58-25.640.tif\n",
      "X:/Bianca for Nina/KConFab 01.008.0411 BRCA2\\2M06_06.10.2021_20.29.31 - Annotation 1\\2M06_06.10.2021_20.29.31_Default_Extended.tif\n",
      "X:/Bianca for Nina/KConFab 01.008.0411 BRCA2\\2M06_06.10.2021_20.29.31 - Annotation 1\\2M06_06.10.2021_20.29.31_Default_Extended_2021-10-12T09-58-57.251.tif\n"
     ]
    }
   ],
   "source": [
    "for root, dirs, files in os.walk(path):\n",
    "    if 'Annotation' in root:\n",
    "        for file in files:\n",
    "            if file.endswith(\".tif\"):\n",
    "                 print(os.path.join(root, file))"
   ]
  },
  {
   "cell_type": "code",
   "execution_count": 71,
   "metadata": {},
   "outputs": [
    {
     "name": "stdout",
     "output_type": "stream",
     "text": [
      "X:/Bianca for Nina/KConFab 10.007.0368 BRCA2/2M08_06.10.2021_22.07.24 - Annotation 1/2M08_06.10.2021_22.07.24_Default_Extended.tif\n",
      "X:/Bianca for Nina/KConFab 10.007.0368 BRCA2/2M08_06.10.2021_22.07.24 - Annotation 1/2M08_06.10.2021_22.07.24_Default_Extended_2021-10-12T10-10-18.458.tif\n",
      "X:/Bianca for Nina/KConFab 10.007.0368 BRCA2/2M08_06.10.2021_22.07.24 - Annotation 1/2M08_06.10.2021_22.07.24_Default_Extended_2021-10-12T10-09-59.801.tif\n",
      "X:/Bianca for Nina/KConFab 10.007.0368 BRCA2/2M08_06.10.2021_22.07.24 - Annotation 1/2M08_06.10.2021_22.07.24_Default_Extended_2021-10-12T10-10-49.772.tif\n",
      "X:/Bianca for Nina/KConFab 10.007.0368 BRCA2/2M08_06.10.2021_22.07.24 - Annotation 1/2M08_06.10.2021_22.07.24_Default_Extendedtemp_converted.ome.tif\n",
      "X:/Bianca for Nina/20PM0149 30years Premenopause Parous WT/2M24_07.10.2021_05.29.19 - Annotation 1/2M24_07.10.2021_05.29.19_Default_Extended_2021-10-12T08-41-49.285.tif\n",
      "X:/Bianca for Nina/20PM0149 30years Premenopause Parous WT/2M24_07.10.2021_05.29.19 - Annotation 1/2M24_07.10.2021_05.29.19_Default_Extended_2021-10-12T08-39-04.709.tif\n",
      "X:/Bianca for Nina/20PM0149 30years Premenopause Parous WT/2M24_07.10.2021_05.29.19 - Annotation 1/2M24_07.10.2021_05.29.19_Default_Extended_2021-10-12T08-41-00.469.tif\n",
      "X:/Bianca for Nina/20PM0149 30years Premenopause Parous WT/2M24_07.10.2021_05.29.19 - Annotation 1/2M24_07.10.2021_05.29.19_Default_Extended_2021-10-12T08-38-10.470.tif\n",
      "X:/Bianca for Nina/20PM0149 30years Premenopause Parous WT/2M24_07.10.2021_05.29.19 - Annotation 1/2M24_07.10.2021_05.29.19_Default_Extendedtemp_converted.ome.tif\n",
      "X:/Bianca for Nina/20PM0149 30years Premenopause Parous WT/2M24_07.10.2021_05.29.19 - Annotation 1/2M24_07.10.2021_05.29.19_Default_Extended.tif\n",
      "X:/Bianca for Nina/17MH0096 26years Premenopause/1M01_18.10.2021_12.59.28.28 - Annotation 2/1M01_18.10.2021_12.59.28_Default_Extended_2021-10-20T16-06-38.199.tif\n",
      "X:/Bianca for Nina/17MH0096 26years Premenopause/1M01_18.10.2021_12.59.28.28 - Annotation 2/1M01_18.10.2021_12.59.28_Default_Extended_2021-10-20T16-03-29.518.tif\n",
      "X:/Bianca for Nina/17MH0096 26years Premenopause/1M01_18.10.2021_12.59.28.28 - Annotation 2/1M01_18.10.2021_12.59.28_Default_Extended.tif\n",
      "X:/Bianca for Nina/17MH0096 26years Premenopause/1M01_18.10.2021_12.59.28.28 - Annotation 2/1M01_18.10.2021_12.59.28_Default_Extended_2021-10-20T16-02-08.905.tif\n",
      "X:/Bianca for Nina/17MH0096 26years Premenopause/1M01_18.10.2021_12.59.28.28 - Annotation 2/1M01_18.10.2021_12.59.28_Default_Extendedtemp_converted.ome.tif\n",
      "X:/Bianca for Nina/KConFab 01.002.0276 BRCA2/1M09_11.02.2021_18.15.58 - Annotation 1/1M09_11.02.2021_18.15.58_Default_Extended_2021-10-12T09-54-48.519.tif\n",
      "X:/Bianca for Nina/KConFab 01.002.0276 BRCA2/1M09_11.02.2021_18.15.58 - Annotation 1/1M09_11.02.2021_18.15.58_Default_Extendedtemp_converted.ome.tif\n",
      "X:/Bianca for Nina/KConFab 01.002.0276 BRCA2/1M09_11.02.2021_18.15.58 - Annotation 1/1M09_11.02.2021_18.15.58_Default_Extended_2021-10-12T09-56-02.492.tif\n",
      "X:/Bianca for Nina/KConFab 01.002.0276 BRCA2/1M09_11.02.2021_18.15.58 - Annotation 1/1M09_11.02.2021_18.15.58_Default_Extended_2021-10-12T09-53-04.435.tif\n",
      "X:/Bianca for Nina/KConFab 01.002.0276 BRCA2/1M09_11.02.2021_18.15.58 - Annotation 1/1M09_11.02.2021_18.15.58_Default_Extended_2021-10-12T09-56-31.556.tif\n",
      "X:/Bianca for Nina/KConFab 01.002.0276 BRCA2/1M09_11.02.2021_18.15.58 - Annotation 1/1M09_11.02.2021_18.15.58_Default_Extended_2021-10-12T09-52-32.105.tif\n",
      "X:/Bianca for Nina/KConFab 01.002.0276 BRCA2/1M09_11.02.2021_18.15.58 - Annotation 1/1M09_11.02.2021_18.15.58_Default_Extended_2021-10-12T09-55-10.551.tif\n",
      "X:/Bianca for Nina/KConFab 01.002.0276 BRCA2/1M09_11.02.2021_18.15.58 - Annotation 1/1M09_11.02.2021_18.15.58_Default_Extended_2021-10-12T09-53-35.499.tif\n",
      "X:/Bianca for Nina/KConFab 01.002.0276 BRCA2/1M09_11.02.2021_18.15.58 - Annotation 1/1M09_11.02.2021_18.15.58_Default_Extended.tif\n",
      "X:/Bianca for Nina/08RMH263 Normal 29years 08.2621/1M06_18.10.2021_16.08.59.59 - Annotation 1/1M06_18.10.2021_16.08.59_Default_Extended.tif\n",
      "X:/Bianca for Nina/08RMH263 Normal 29years 08.2621/1M06_18.10.2021_16.08.59.59 - Annotation 1/1M06_18.10.2021_16.08.59_Default_Extended_01.tif\n",
      "X:/Bianca for Nina/08RMH263 Normal 29years 08.2621/1M06_18.10.2021_16.08.59.59 - Annotation 1/1M06_18.10.2021_16.08.59_Default_Extendedtemp_jpeg2000.ome.tif\n",
      "X:/Bianca for Nina/08RMH263 Normal 29years 08.2621/1M06_18.10.2021_16.08.59.59 - Annotation 1/1M06_18.10.2021_16.08.59_Default_Extendedtemp_converted.ome.tif\n",
      "X:/Bianca for Nina/08RMH263 Normal 29years 08.2621/1M06_18.10.2021_16.08.59.59 - Annotation 1/1M06_18.10.2021_16.08.59_Default_Extended_01_2021-10-22T16-24-59.703.tif\n",
      "X:/Bianca for Nina/08RMH263 Normal 29years 08.2621/1M06_18.10.2021_16.08.59.59 - Annotation 1/1M06_18.10.2021_16.08.59_Default_Extended_01_2021-10-22T16-24-15.155.tif\n",
      "X:/Bianca for Nina/08RMH263 Normal 29years 08.2621/1M06_18.10.2021_16.08.59.59 - Annotation 1/1M06_18.10.2021_16.08.59_Default_Extended_01_2021-10-22T16-24-33.546.tif\n",
      "X:/Bianca for Nina/08RMH263 Normal 29years 08.2621/1M06_18.10.2021_16.08.59.59 - Annotation 1/1M06_18.10.2021_16.08.59_Default_Extended_01_2021-10-22T16-23-42.279.tif\n",
      "X:/Bianca for Nina/KConFab 01.008.0411 BRCA2/2M06_06.10.2021_20.29.31 - Annotation 1/2M06_06.10.2021_20.29.31_Default_Extended_2021-10-12T09-57-44.575.tif\n",
      "X:/Bianca for Nina/KConFab 01.008.0411 BRCA2/2M06_06.10.2021_20.29.31 - Annotation 1/2M06_06.10.2021_20.29.31_Default_Extended_2021-10-12T09-58-25.640.tif\n",
      "X:/Bianca for Nina/KConFab 01.008.0411 BRCA2/2M06_06.10.2021_20.29.31 - Annotation 1/2M06_06.10.2021_20.29.31_Default_Extended.tif\n",
      "X:/Bianca for Nina/KConFab 01.008.0411 BRCA2/2M06_06.10.2021_20.29.31 - Annotation 1/2M06_06.10.2021_20.29.31_Default_Extended_2021-10-12T09-58-57.251.tif\n"
     ]
    }
   ],
   "source": [
    "for root, dirs, files in os.walk(path):\n",
    "    if 'Annotation' in root:\n",
    "        for file in files:\n",
    "            if file.endswith(\".tif\"):\n",
    "                root = root.replace(\"\\\\\",\"/\")\n",
    "                to_convert = root + '/'+file\n",
    "                print(to_convert)\n",
    "                with tifffile.TiffFile(to_convert) as tif:\n",
    "                    tag = tif.pages[0]\n",
    "                #image = tifffile.imread(to_convert)\n",
    "                regex = re.compile('PixelSize[X-Y] = ([0-9].[0-9]\\w+)')\n",
    "                #res = regex.findall(tag.tags['ImageDescription'].value)\n",
    "                #print(res[0],res[1])\n",
    "                if not os.path.isfile(root+'/'+file[:-4]+'temp_converted.ome.tif') and file.endswith('Extended.tif'):\n",
    "                    with tifffile.TiffWriter(root+'/'+file[:-4]+'temp_converted.ome.tif', bigtiff=True) as tif_:\n",
    "\n",
    "                        options = dict(tile=(256, 256), compression='jpeg2000')\n",
    "                        tif_.write(image, subifds=2, **options)\n",
    "                            # save pyramid levels to the two subifds\n",
    "                                #tif_.write(image, subfiletype=1, **options)\n",
    "                        tif_.write(image[::4, ::4], subfiletype=1, **options)\n",
    "                        tif_.write(image[::16, ::16], subfiletype=1, **options)\n",
    "                        ##tif_.write(image[::64, ::64], subfiletype=1, **options)\n",
    "\n"
   ]
  }
 ],
 "metadata": {
  "kernelspec": {
   "display_name": "Python 3",
   "language": "python",
   "name": "python3"
  },
  "language_info": {
   "codemirror_mode": {
    "name": "ipython",
    "version": 3
   },
   "file_extension": ".py",
   "mimetype": "text/x-python",
   "name": "python",
   "nbconvert_exporter": "python",
   "pygments_lexer": "ipython3",
   "version": "3.7.4"
  }
 },
 "nbformat": 4,
 "nbformat_minor": 4
}
